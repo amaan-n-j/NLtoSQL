{
 "cells": [
  {
   "cell_type": "code",
   "execution_count": 1,
   "id": "b5b8b934-3a63-4ef7-a82d-4b11d0f84ac2",
   "metadata": {},
   "outputs": [
    {
     "ename": "ImportError",
     "evalue": "cannot import name 'stopwords' from 'nltk' (/home/anarch/anaconda3/lib/python3.11/site-packages/nltk/__init__.py)",
     "output_type": "error",
     "traceback": [
      "\u001b[0;31m---------------------------------------------------------------------------\u001b[0m",
      "\u001b[0;31mImportError\u001b[0m                               Traceback (most recent call last)",
      "Cell \u001b[0;32mIn[1], line 1\u001b[0m\n\u001b[0;32m----> 1\u001b[0m \u001b[38;5;28;01mfrom\u001b[39;00m \u001b[38;5;21;01mnltk\u001b[39;00m \u001b[38;5;28;01mimport\u001b[39;00m stopwords\n",
      "\u001b[0;31mImportError\u001b[0m: cannot import name 'stopwords' from 'nltk' (/home/anarch/anaconda3/lib/python3.11/site-packages/nltk/__init__.py)"
     ]
    }
   ],
   "source": [
    "from nltk import stopwords"
   ]
  },
  {
   "cell_type": "code",
   "execution_count": null,
   "id": "262824c5-69db-4e0e-b93f-774f0fee1138",
   "metadata": {},
   "outputs": [],
   "source": []
  }
 ],
 "metadata": {
  "kernelspec": {
   "display_name": "Python 3 (ipykernel)",
   "language": "python",
   "name": "python3"
  },
  "language_info": {
   "codemirror_mode": {
    "name": "ipython",
    "version": 3
   },
   "file_extension": ".py",
   "mimetype": "text/x-python",
   "name": "python",
   "nbconvert_exporter": "python",
   "pygments_lexer": "ipython3",
   "version": "3.11.7"
  }
 },
 "nbformat": 4,
 "nbformat_minor": 5
}
